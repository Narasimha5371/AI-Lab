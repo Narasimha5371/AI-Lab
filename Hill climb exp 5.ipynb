{
 "cells": [
  {
   "cell_type": "code",
   "execution_count": 83,
   "id": "beb6c2b2-f033-4245-94c4-f991a480c3a2",
   "metadata": {},
   "outputs": [
    {
     "name": "stdout",
     "output_type": "stream",
     "text": [
      "best solution:1.9804132610889673\n",
      "best score:3.999616359658831\n"
     ]
    }
   ],
   "source": [
    "import random\n",
    "def fun(x):\n",
    "    return -x**2+4*x\n",
    "def hillclimb(start,step=0.1,iteration=50):\n",
    "    current=start\n",
    "    current_val=fun(current)\n",
    "    for i in range(iteration):\n",
    "        neighbour=current+random.uniform(0,5)\n",
    "        neighbour_val=fun(neighbour)\n",
    "        if neighbour_val>current_val:\n",
    "            current=neighbour            \n",
    "            current_val=neighbour_val\n",
    "    return current,current_val\n",
    "start=random.uniform(0,5)\n",
    "bestsol,best_score=hillclimb(start)\n",
    "print(f\"best solution:{bestsol}\\nbest score:{best_score}\")"
   ]
  },
  {
   "cell_type": "code",
   "execution_count": null,
   "id": "71b74d2a-2cb8-4e2a-b076-43b9f8467c06",
   "metadata": {},
   "outputs": [],
   "source": []
  }
 ],
 "metadata": {
  "kernelspec": {
   "display_name": "Python 3 (ipykernel)",
   "language": "python",
   "name": "python3"
  },
  "language_info": {
   "codemirror_mode": {
    "name": "ipython",
    "version": 3
   },
   "file_extension": ".py",
   "mimetype": "text/x-python",
   "name": "python",
   "nbconvert_exporter": "python",
   "pygments_lexer": "ipython3",
   "version": "3.12.7"
  }
 },
 "nbformat": 4,
 "nbformat_minor": 5
}
