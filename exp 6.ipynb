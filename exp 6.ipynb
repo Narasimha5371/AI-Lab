{
 "cells": [
  {
   "cell_type": "code",
   "execution_count": 25,
   "id": "7ba5b897-b13f-47f5-a9c6-468bac8951a7",
   "metadata": {},
   "outputs": [
    {
     "name": "stdout",
     "output_type": "stream",
     "text": [
      "Optimal value:1\n"
     ]
    }
   ],
   "source": [
    "MIN=-1000\n",
    "MAX=1000\n",
    "def minimax(depth,nodeindex,maximize_player,values,alpha,beta):\n",
    "    if depth==3:\n",
    "        return values[nodeindex]\n",
    "    if maximize_player:\n",
    "        best=MIN\n",
    "        for i in range(0,2):\n",
    "            val=minimax(depth+1,nodeindex*2+i,False,values,alpha,beta)\n",
    "            best=max(alpha,val)\n",
    "            alpha=max(alpha,best)\n",
    "            if alpha>=beta:\n",
    "                break\n",
    "        return best\n",
    "    else:\n",
    "        best=MAX\n",
    "        for i in range(0,2):\n",
    "            val=minimax(depth+1,nodeindex*2+i,True,values,alpha,beta)\n",
    "            best=min(best,val)\n",
    "            beta=min(beta,best)\n",
    "            if alpha>=beta:\n",
    "                break\n",
    "        return best\n",
    "values=[84,-29,-37,-25,1,-43,-75,49]\n",
    "print(f\"Optimal value:{minimax(0,0,True,values,MIN,MAX)}\")"
   ]
  },
  {
   "cell_type": "code",
   "execution_count": null,
   "id": "580b3089-82e4-4c08-b091-19c6fc8c3ed4",
   "metadata": {},
   "outputs": [],
   "source": []
  }
 ],
 "metadata": {
  "kernelspec": {
   "display_name": "Python 3 (ipykernel)",
   "language": "python",
   "name": "python3"
  },
  "language_info": {
   "codemirror_mode": {
    "name": "ipython",
    "version": 3
   },
   "file_extension": ".py",
   "mimetype": "text/x-python",
   "name": "python",
   "nbconvert_exporter": "python",
   "pygments_lexer": "ipython3",
   "version": "3.12.7"
  }
 },
 "nbformat": 4,
 "nbformat_minor": 5
}
