{
 "cells": [
  {
   "cell_type": "code",
   "execution_count": 7,
   "id": "b75a51d8-91c7-4876-8dd0-a316352dfc7f",
   "metadata": {},
   "outputs": [],
   "source": [
    "import heapq"
   ]
  },
  {
   "cell_type": "code",
   "execution_count": 53,
   "id": "86e07ede-e76a-47d0-90e1-c645e262c47f",
   "metadata": {},
   "outputs": [
    {
     "name": "stdout",
     "output_type": "stream",
     "text": [
      "Least-cost path from A to Z:['A', 'C', 'D', 'E', 'Z']\n",
      "Total cost:17\n"
     ]
    }
   ],
   "source": [
    "def UCS(graph,start,goal):\n",
    "    pri=[(0,start,[])]\n",
    "    visited=set()\n",
    "    while pri:\n",
    "        cost,node,path=heapq.heappop(pri)\n",
    "        if node is visited:\n",
    "            continue\n",
    "        path=path+[node]\n",
    "        visited.add(node)\n",
    "        if node==goal:\n",
    "            return cost,path\n",
    "        for neighbor,edge_cost in graph.get(node,[]):\n",
    "            if neighbor not in visited:\n",
    "                heapq.heappush(pri,(cost+edge_cost,neighbor,path))\n",
    "    return float('inf'),[]\n",
    "graph={\n",
    "    'A':[('B',4),('C',3)],\n",
    "    'B':[('F',5),('E',12)],\n",
    "    'C':[('D',7),('E',10)],\n",
    "    'D':[('E',2)],\n",
    "    'E':[('Z',5)],\n",
    "    'F':[('Z',16)],\n",
    "}\n",
    "start='A'\n",
    "goal='Z'\n",
    "cost,path=UCS(graph,start,goal)\n",
    "print(f\"Least-cost path from {start} to {goal}:{path}\")\n",
    "print(f\"Total cost:{cost}\")"
   ]
  },
  {
   "cell_type": "code",
   "execution_count": 55,
   "id": "8b0c466a-a454-4fb2-8f01-74a1aaed0c50",
   "metadata": {},
   "outputs": [
    {
     "name": "stdout",
     "output_type": "stream",
     "text": [
      "Least-cost path from A to E:['A', 'B', 'E']\n",
      "Total cost:7\n"
     ]
    }
   ],
   "source": [
    "\n",
    "graph={\n",
    "    'A':[('B',2),('D',3)],\n",
    "    'B':[('G',5),('E',5)],\n",
    "    'D':[('B',1),('G',2),('F',6)],\n",
    "}\n",
    "start='A'\n",
    "goal='E'\n",
    "cost,path=UCS(graph,start,goal)\n",
    "print(f\"Least-cost path from {start} to {goal}:{path}\")\n",
    "print(f\"Total cost:{cost}\")"
   ]
  },
  {
   "cell_type": "code",
   "execution_count": 57,
   "id": "35b0f48a-ca84-4eda-8f1b-91fa0248071a",
   "metadata": {},
   "outputs": [
    {
     "name": "stdout",
     "output_type": "stream",
     "text": [
      "Least-cost path from A to G:['A', 'D', 'G']\n",
      "Total cost:5\n",
      "Least-cost path from A to F:['A', 'D', 'F']\n",
      "Total cost:9\n"
     ]
    }
   ],
   "source": [
    "start='A'\n",
    "goal='G'\n",
    "cost,path=UCS(graph,start,goal)\n",
    "print(f\"Least-cost path from {start} to {goal}:{path}\")\n",
    "print(f\"Total cost:{cost}\")\n",
    "start='A'\n",
    "goal='F'\n",
    "cost,path=UCS(graph,start,goal)\n",
    "print(f\"Least-cost path from {start} to {goal}:{path}\")\n",
    "print(f\"Total cost:{cost}\")"
   ]
  },
  {
   "cell_type": "code",
   "execution_count": null,
   "id": "74aa9157-28df-42f2-926a-11fff5358587",
   "metadata": {},
   "outputs": [],
   "source": []
  },
  {
   "cell_type": "code",
   "execution_count": null,
   "id": "1a387602-8c5a-4acc-9bfd-c8e53cff2360",
   "metadata": {},
   "outputs": [],
   "source": []
  }
 ],
 "metadata": {
  "kernelspec": {
   "display_name": "Python 3 (ipykernel)",
   "language": "python",
   "name": "python3"
  },
  "language_info": {
   "codemirror_mode": {
    "name": "ipython",
    "version": 3
   },
   "file_extension": ".py",
   "mimetype": "text/x-python",
   "name": "python",
   "nbconvert_exporter": "python",
   "pygments_lexer": "ipython3",
   "version": "3.12.7"
  }
 },
 "nbformat": 4,
 "nbformat_minor": 5
}
