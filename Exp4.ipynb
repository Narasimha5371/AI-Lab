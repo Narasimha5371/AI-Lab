{
 "cells": [
  {
   "cell_type": "code",
   "execution_count": 11,
   "id": "b74cc2c2-553f-4087-b506-34e4eb00ac52",
   "metadata": {},
   "outputs": [
    {
     "name": "stdout",
     "output_type": "stream",
     "text": [
      "Least-cost path from A to Z: ['A', 'C', 'D', 'E', 'Z']\n",
      "cost: 17\n"
     ]
    }
   ],
   "source": [
    "import heapq\n",
    "def heuristic(node, goal):\n",
    "    heuristics = {'A': 14,'B': 12,'C': 11,'D': 6,'E': 4,'F': 11,'Z': 0}\n",
    "    return heuristics.get(node, float('inf'))\n",
    "def a_star_search(graph, start, goal):\n",
    "    PQ = [(heuristic(start, goal), 0, start, [])]\n",
    "    visited = set()\n",
    "    while PQ:\n",
    "        f,cost,node,path=heapq.heappop(PQ)\n",
    "        if node in visited:\n",
    "            continue\n",
    "        path = path+[node]\n",
    "        visited.add(node)\n",
    "        if node==goal:\n",
    "            return cost, path\n",
    "        for neighbor,edge_cost in graph.get(node, []):\n",
    "            if neighbor not in visited:\n",
    "                g_cost=cost+edge_cost\n",
    "                f_cost=g_cost + heuristic(neighbor, goal)\n",
    "                heapq.heappush(PQ, (f_cost, g_cost, neighbor, path))\n",
    "    return float('inf'), []\n",
    "graph={\n",
    "    'A':[('B',4),('C',3)],\n",
    "    'B':[('F',5),('E',12)],\n",
    "    'C':[('E',10),('D',7)],\n",
    "    'D':[('E',2)],\n",
    "    'E':[('Z',5)],\n",
    "    'F':[('Z',16)]\n",
    "}\n",
    "start_node = 'A'\n",
    "goal_node = 'Z'\n",
    "cost, path = a_star_search(graph, start_node, goal_node)\n",
    "print(f\"Least-cost path from {start_node} to {goal_node}: {path}\")\n",
    "print(f\"cost: {cost}\")"
   ]
  },
  {
   "cell_type": "code",
   "execution_count": null,
   "id": "aff08bee-96da-4ba0-b1fa-32ecf469bcda",
   "metadata": {},
   "outputs": [],
   "source": []
  }
 ],
 "metadata": {
  "kernelspec": {
   "display_name": "Python 3 (ipykernel)",
   "language": "python",
   "name": "python3"
  },
  "language_info": {
   "codemirror_mode": {
    "name": "ipython",
    "version": 3
   },
   "file_extension": ".py",
   "mimetype": "text/x-python",
   "name": "python",
   "nbconvert_exporter": "python",
   "pygments_lexer": "ipython3",
   "version": "3.12.7"
  }
 },
 "nbformat": 4,
 "nbformat_minor": 5
}
